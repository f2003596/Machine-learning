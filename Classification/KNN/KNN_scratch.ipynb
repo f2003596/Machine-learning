{
 "cells": [
  {
   "cell_type": "code",
   "execution_count": 1,
   "metadata": {},
   "outputs": [],
   "source": [
    "import pandas as pd\n",
    "import numpy as np\n",
    "import matplotlib.pyplot as plt "
   ]
  },
  {
   "cell_type": "code",
   "execution_count": 40,
   "metadata": {},
   "outputs": [
    {
     "data": {
      "text/html": [
       "<div>\n",
       "<style scoped>\n",
       "    .dataframe tbody tr th:only-of-type {\n",
       "        vertical-align: middle;\n",
       "    }\n",
       "\n",
       "    .dataframe tbody tr th {\n",
       "        vertical-align: top;\n",
       "    }\n",
       "\n",
       "    .dataframe thead th {\n",
       "        text-align: right;\n",
       "    }\n",
       "</style>\n",
       "<table border=\"1\" class=\"dataframe\">\n",
       "  <thead>\n",
       "    <tr style=\"text-align: right;\">\n",
       "      <th></th>\n",
       "      <th>Pregnancies</th>\n",
       "      <th>Glucose</th>\n",
       "      <th>BloodPressure</th>\n",
       "      <th>SkinThickness</th>\n",
       "      <th>Insulin</th>\n",
       "      <th>BMI</th>\n",
       "      <th>DiabetesPedigreeFunction</th>\n",
       "      <th>Age</th>\n",
       "      <th>Outcome</th>\n",
       "    </tr>\n",
       "  </thead>\n",
       "  <tbody>\n",
       "    <tr>\n",
       "      <th>0</th>\n",
       "      <td>6</td>\n",
       "      <td>148</td>\n",
       "      <td>72</td>\n",
       "      <td>35</td>\n",
       "      <td>0</td>\n",
       "      <td>33.6</td>\n",
       "      <td>0.627</td>\n",
       "      <td>50</td>\n",
       "      <td>1</td>\n",
       "    </tr>\n",
       "    <tr>\n",
       "      <th>1</th>\n",
       "      <td>1</td>\n",
       "      <td>85</td>\n",
       "      <td>66</td>\n",
       "      <td>29</td>\n",
       "      <td>0</td>\n",
       "      <td>26.6</td>\n",
       "      <td>0.351</td>\n",
       "      <td>31</td>\n",
       "      <td>0</td>\n",
       "    </tr>\n",
       "    <tr>\n",
       "      <th>2</th>\n",
       "      <td>8</td>\n",
       "      <td>183</td>\n",
       "      <td>64</td>\n",
       "      <td>0</td>\n",
       "      <td>0</td>\n",
       "      <td>23.3</td>\n",
       "      <td>0.672</td>\n",
       "      <td>32</td>\n",
       "      <td>1</td>\n",
       "    </tr>\n",
       "    <tr>\n",
       "      <th>3</th>\n",
       "      <td>1</td>\n",
       "      <td>89</td>\n",
       "      <td>66</td>\n",
       "      <td>23</td>\n",
       "      <td>94</td>\n",
       "      <td>28.1</td>\n",
       "      <td>0.167</td>\n",
       "      <td>21</td>\n",
       "      <td>0</td>\n",
       "    </tr>\n",
       "    <tr>\n",
       "      <th>4</th>\n",
       "      <td>0</td>\n",
       "      <td>137</td>\n",
       "      <td>40</td>\n",
       "      <td>35</td>\n",
       "      <td>168</td>\n",
       "      <td>43.1</td>\n",
       "      <td>2.288</td>\n",
       "      <td>33</td>\n",
       "      <td>1</td>\n",
       "    </tr>\n",
       "  </tbody>\n",
       "</table>\n",
       "</div>"
      ],
      "text/plain": [
       "   Pregnancies  Glucose  BloodPressure  SkinThickness  Insulin   BMI  \\\n",
       "0            6      148             72             35        0  33.6   \n",
       "1            1       85             66             29        0  26.6   \n",
       "2            8      183             64              0        0  23.3   \n",
       "3            1       89             66             23       94  28.1   \n",
       "4            0      137             40             35      168  43.1   \n",
       "\n",
       "   DiabetesPedigreeFunction  Age  Outcome  \n",
       "0                     0.627   50        1  \n",
       "1                     0.351   31        0  \n",
       "2                     0.672   32        1  \n",
       "3                     0.167   21        0  \n",
       "4                     2.288   33        1  "
      ]
     },
     "execution_count": 40,
     "metadata": {},
     "output_type": "execute_result"
    }
   ],
   "source": [
    "#col_names = ['pregnant', 'glucose', 'bp', 'skin', 'insulin', 'bmi', 'pedigree', 'age', 'label']\n",
    "data = pd.read_csv(\"E:\\\\Amrita University\\\\Academics\\\\3rd year 2019-20\\\\6th Semester\\\\Principles of Machine Learning\\\\Lab\\\\Lab 5\\\\diabetes.csv\")\n",
    "data.head()"
   ]
  },
  {
   "cell_type": "code",
   "execution_count": 41,
   "metadata": {
    "scrolled": true
   },
   "outputs": [],
   "source": [
    "# To find Euclidean distance between two points\n",
    "def euclidean_distance(x,y,length):\n",
    "    sum_squared_distance = {}\n",
    "    \n",
    "    for i in range(len(x)):\n",
    "        sum = 0\n",
    "        sum+=np.square(x[i][0] - y[0])\n",
    "        sum+=np.square(x[i][1] - y[1])\n",
    "        sum_squared_distance[i] = np.sqrt(sum)\n",
    "    return sum_squared_distance"
   ]
  },
  {
   "cell_type": "code",
   "execution_count": 42,
   "metadata": {},
   "outputs": [
    {
     "name": "stdout",
     "output_type": "stream",
     "text": [
      "[0, 100]  Prediction is  1\n",
      "[5, 100]  Prediction is  0\n"
     ]
    }
   ],
   "source": [
    "import operator\n",
    "from statistics import mode\n",
    "\n",
    "# Find the prediction of the query\n",
    "def knn(data,query,k):\n",
    "    distances = {}\n",
    "    sort = {}\n",
    "    length = 2\n",
    "    data_dict_train = {}\n",
    "    data_dict_test = {}\n",
    "    for i in range(len(data)):\n",
    "        data_dict_train[i] = data[i]\n",
    "        data_dict_test[i] = y[i]\n",
    "    #for i in data:\n",
    "    #dist = euclidean_distance(data,query,length)\n",
    "        \n",
    "    distance = (euclidean_distance(data,query,length)) \n",
    "    sorted_d = sort_distance(distance)\n",
    "    top_k = top_k_dictionary(sorted_d)\n",
    "    top_k_class(query,top_k,data_dict_train,data_dict_test)\n",
    "\n",
    "# Sort the items in the dictionary of the calculated distances    \n",
    "def sort_distance(distance):    \n",
    "    sorted_d = sorted(distance.items(),key=operator.itemgetter(1))\n",
    "    return sorted_d\n",
    "\n",
    "# Find the Top K classes from the sorted items\n",
    "def top_k_dictionary(sorted_d):\n",
    "    top_k = {}\n",
    "    for i in range(k):\n",
    "        top_k.update(sorted_d[:k])\n",
    "    return top_k\n",
    "\n",
    "# Find the mode of the Top K class and it is the prediction\n",
    "def top_k_class(query,top_k,data_dict_train,data_dict_test):        \n",
    "    final_top_k = []\n",
    "    for i in top_k:\n",
    "        final_top_k.append(data_dict_train[i][0])\n",
    "    print(query,\" Prediction is \",data_dict_test[mode(final_top_k)])\n",
    "\n",
    "# Pass the input and output lists    \n",
    "def main():\n",
    "    x = data[['Pregnancies','Glucose','BloodPressure','SkinThickness','Insulin','BMI','DiabetesPedigreeFunction','Age']].values\n",
    "    y = data.iloc[:,-1]\n",
    "    k = 3\n",
    "\n",
    "    query = [[0,100],[5,100]]\n",
    "    for i in query:\n",
    "        knn(x,i,k)\n",
    "\n",
    "if __name__=='__main__':\n",
    "    main()"
   ]
  },
  {
   "cell_type": "code",
   "execution_count": 43,
   "metadata": {},
   "outputs": [
    {
     "name": "stdout",
     "output_type": "stream",
     "text": [
      "[0 0]\n"
     ]
    }
   ],
   "source": [
    "# KNN using Sklearn\n",
    "from sklearn.neighbors import KNeighborsClassifier\n",
    "knn = KNeighborsClassifier(n_neighbors=k)\n",
    "knn.fit(x,y)\n",
    "print(knn.predict(query))\n"
   ]
  },
  {
   "cell_type": "code",
   "execution_count": null,
   "metadata": {},
   "outputs": [],
   "source": []
  }
 ],
 "metadata": {
  "kernelspec": {
   "display_name": "Python 3",
   "language": "python",
   "name": "python3"
  },
  "language_info": {
   "codemirror_mode": {
    "name": "ipython",
    "version": 3
   },
   "file_extension": ".py",
   "mimetype": "text/x-python",
   "name": "python",
   "nbconvert_exporter": "python",
   "pygments_lexer": "ipython3",
   "version": "3.7.3"
  }
 },
 "nbformat": 4,
 "nbformat_minor": 2
}
